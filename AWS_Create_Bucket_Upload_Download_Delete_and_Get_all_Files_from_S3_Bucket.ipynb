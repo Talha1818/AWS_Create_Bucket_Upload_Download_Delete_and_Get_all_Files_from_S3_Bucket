{
  "nbformat": 4,
  "nbformat_minor": 0,
  "metadata": {
    "colab": {
      "provenance": [],
      "include_colab_link": true
    },
    "kernelspec": {
      "name": "python3",
      "display_name": "Python 3"
    },
    "language_info": {
      "name": "python"
    }
  },
  "cells": [
    {
      "cell_type": "markdown",
      "metadata": {
        "id": "view-in-github",
        "colab_type": "text"
      },
      "source": [
        "<a href=\"https://colab.research.google.com/github/Talha1818/AWS_Create_Bucket_Upload_Download_Delete_and_Get_all_Files_from_S3_Bucket/blob/master/AWS_Create_Bucket_Upload_Download_Delete_and_Get_all_Files_from_S3_Bucket.ipynb\" target=\"_parent\"><img src=\"https://colab.research.google.com/assets/colab-badge.svg\" alt=\"Open In Colab\"/></a>"
      ]
    },
    {
      "cell_type": "code",
      "source": [
        "!pip install boto3"
      ],
      "metadata": {
        "colab": {
          "base_uri": "https://localhost:8080/"
        },
        "id": "BAgghogkXmD9",
        "outputId": "7f42ccb6-b6bc-4e8d-8a17-5e1494ef454e"
      },
      "execution_count": null,
      "outputs": [
        {
          "output_type": "stream",
          "name": "stdout",
          "text": [
            "Collecting boto3\n",
            "  Downloading boto3-1.34.39-py3-none-any.whl (139 kB)\n",
            "\u001b[2K     \u001b[90m━━━━━━━━━━━━━━━━━━━━━━━━━━━━━━━━━━━━━━━━\u001b[0m \u001b[32m139.3/139.3 kB\u001b[0m \u001b[31m3.5 MB/s\u001b[0m eta \u001b[36m0:00:00\u001b[0m\n",
            "\u001b[?25hCollecting botocore<1.35.0,>=1.34.39 (from boto3)\n",
            "  Downloading botocore-1.34.39-py3-none-any.whl (11.9 MB)\n",
            "\u001b[2K     \u001b[90m━━━━━━━━━━━━━━━━━━━━━━━━━━━━━━━━━━━━━━━━\u001b[0m \u001b[32m11.9/11.9 MB\u001b[0m \u001b[31m32.8 MB/s\u001b[0m eta \u001b[36m0:00:00\u001b[0m\n",
            "\u001b[?25hCollecting jmespath<2.0.0,>=0.7.1 (from boto3)\n",
            "  Downloading jmespath-1.0.1-py3-none-any.whl (20 kB)\n",
            "Collecting s3transfer<0.11.0,>=0.10.0 (from boto3)\n",
            "  Downloading s3transfer-0.10.0-py3-none-any.whl (82 kB)\n",
            "\u001b[2K     \u001b[90m━━━━━━━━━━━━━━━━━━━━━━━━━━━━━━━━━━━━━━━━\u001b[0m \u001b[32m82.1/82.1 kB\u001b[0m \u001b[31m10.9 MB/s\u001b[0m eta \u001b[36m0:00:00\u001b[0m\n",
            "\u001b[?25hRequirement already satisfied: python-dateutil<3.0.0,>=2.1 in /usr/local/lib/python3.10/dist-packages (from botocore<1.35.0,>=1.34.39->boto3) (2.8.2)\n",
            "Requirement already satisfied: urllib3<2.1,>=1.25.4 in /usr/local/lib/python3.10/dist-packages (from botocore<1.35.0,>=1.34.39->boto3) (2.0.7)\n",
            "Requirement already satisfied: six>=1.5 in /usr/local/lib/python3.10/dist-packages (from python-dateutil<3.0.0,>=2.1->botocore<1.35.0,>=1.34.39->boto3) (1.16.0)\n",
            "Installing collected packages: jmespath, botocore, s3transfer, boto3\n",
            "Successfully installed boto3-1.34.39 botocore-1.34.39 jmespath-1.0.1 s3transfer-0.10.0\n"
          ]
        }
      ]
    },
    {
      "cell_type": "markdown",
      "source": [
        "## Create Bucket (Optional)"
      ],
      "metadata": {
        "id": "TdJp0Lz1Oxue"
      }
    },
    {
      "cell_type": "code",
      "source": [
        "def create_bucket(bucket_name, region=None):\n",
        "    \"\"\"Create an S3 bucket in a specified region\n",
        "\n",
        "    If a region is not specified, the bucket is created in the S3 default\n",
        "    region (us-east-1).\n",
        "\n",
        "    :param bucket_name: Bucket to create\n",
        "    :param region: String region to create bucket in, e.g., 'us-west-2'\n",
        "    :return: True if bucket created, else False\n",
        "    \"\"\"\n",
        "\n",
        "    # Create bucket\n",
        "    try:\n",
        "        if region is None:\n",
        "            # Create an S3 resource\n",
        "            s3_client = boto3.resource('s3', aws_access_key_id = 'XXX',\n",
        "                          aws_secret_access_key= 'XXX')\n",
        "            s3_client.create_bucket(Bucket=bucket_name)\n",
        "        else:\n",
        "            # s3_client = boto3.client('s3', region_name=region)\n",
        "            # Create an S3 resource\n",
        "            s3_client = boto3.resource('s3', aws_access_key_id = 'XXX',\n",
        "                          aws_secret_access_key= 'XXX', region_name=region)\n",
        "            location = {'LocationConstraint': region}\n",
        "            s3_client.create_bucket(Bucket=bucket_name,\n",
        "                                    CreateBucketConfiguration=location)\n",
        "    except ClientError as e:\n",
        "        logging.error(e)\n",
        "        return False\n",
        "    return True"
      ],
      "metadata": {
        "id": "bjSXyCCMZAdf"
      },
      "execution_count": null,
      "outputs": []
    },
    {
      "cell_type": "code",
      "source": [
        "create_bucket(\"dmsai\", region=None)"
      ],
      "metadata": {
        "colab": {
          "base_uri": "https://localhost:8080/"
        },
        "id": "Mw-Vn82JaMPR",
        "outputId": "0a069cb9-d52a-4bc7-cb5f-80d10e461442"
      },
      "execution_count": null,
      "outputs": [
        {
          "output_type": "execute_result",
          "data": {
            "text/plain": [
              "True"
            ]
          },
          "metadata": {},
          "execution_count": 24
        }
      ]
    },
    {
      "cell_type": "markdown",
      "source": [
        "## Upload, Download, Delete and Get all Files from S3 Bucket"
      ],
      "metadata": {
        "id": "hSaHeTwzrU7p"
      }
    },
    {
      "cell_type": "code",
      "source": [
        "import os\n",
        "import boto3\n",
        "\n",
        "class S3Uploader:\n",
        "    def __init__(self, aws_access_key_id, aws_secret_access_key):\n",
        "        self.s3 = boto3.resource('s3', aws_access_key_id=aws_access_key_id,\n",
        "                                 aws_secret_access_key=aws_secret_access_key)\n",
        "        self.s3_client = boto3.client('s3', aws_access_key_id=aws_access_key_id,\n",
        "                                      aws_secret_access_key=aws_secret_access_key)\n",
        "\n",
        "    def upload_file(self, bucket_name, file_name=\"\", key_prefix=\"\"):\n",
        "        key_prefix_with_file_name = os.path.join(key_prefix, file_name)\n",
        "        self.s3.Bucket(bucket_name).upload_file(file_name, key_prefix_with_file_name)\n",
        "        print(f\"Uploaded to s3://{bucket_name}/{key_prefix_with_file_name}\")\n",
        "\n",
        "    def download_file(self, bucket_name, file_key, local_file_path):\n",
        "        self.s3.Bucket(bucket_name).download_file(file_key, local_file_path)\n",
        "        print(f\"Downloaded file '{file_key}' to '{local_file_path}'\")\n",
        "\n",
        "    def list_files_in_bucket(self, bucket_name, folder):\n",
        "        # List objects in the bucket\n",
        "        response = self.s3_client.list_objects_v2(Bucket=bucket_name, Prefix=folder)\n",
        "\n",
        "        # Extract file keys from the response\n",
        "        file_keys = []\n",
        "        if 'Contents' in response:\n",
        "            for obj in response['Contents']:\n",
        "                file_keys.append(obj['Key'])\n",
        "\n",
        "        return file_keys\n",
        "\n",
        "    def delete_file(self, bucket_name, object_key):\n",
        "        self.s3_client.delete_object(Bucket=bucket_name, Key=object_key)\n",
        "        print(f\"Deleted object '{object_key}' from bucket '{bucket_name}'\")"
      ],
      "metadata": {
        "id": "_3wGQroXaeic"
      },
      "execution_count": null,
      "outputs": []
    },
    {
      "cell_type": "code",
      "source": [
        "bucket_name='dmsai'\n",
        "s3Object = S3Uploader(aws_access_key_id='XXX',\n",
        "                      aws_secret_access_key='XXX')"
      ],
      "metadata": {
        "id": "8I1c1LoPqxsg"
      },
      "execution_count": null,
      "outputs": []
    },
    {
      "cell_type": "code",
      "source": [
        "s3Object.upload_file(bucket_name=bucket_name, file_name='20220531-Westpac-62b50dcee4b01b296330c0ea.pdf',\n",
        "                     key_prefix='Documents')\n",
        "s3Object.upload_file(bucket_name=bucket_name, file_name='20220531-Westpac-62b50dcee4b01b296330c0ea.pdf',\n",
        "                     key_prefix='Process_Files')"
      ],
      "metadata": {
        "colab": {
          "base_uri": "https://localhost:8080/"
        },
        "id": "Uqdz8mIEfuIa",
        "outputId": "b23f800a-a64e-41b3-e8bd-176d7050bbad"
      },
      "execution_count": null,
      "outputs": [
        {
          "output_type": "stream",
          "name": "stdout",
          "text": [
            "Uploaded to s3://dmsai/Documents/20220531-Westpac-62b50dcee4b01b296330c0ea.pdf\n",
            "Uploaded to s3://dmsai/Process_Files/20220531-Westpac-62b50dcee4b01b296330c0ea.pdf\n"
          ]
        }
      ]
    },
    {
      "cell_type": "code",
      "source": [
        "s3Object.download_file(bucket_name=bucket_name, file_key='Process_Files/20220531-Westpac-62b50dcee4b01b296330c0ea.pdf', local_file_path='sample.pdf')"
      ],
      "metadata": {
        "colab": {
          "base_uri": "https://localhost:8080/"
        },
        "id": "muFUdIFPpqte",
        "outputId": "397b7816-e1e6-46fe-c7dc-ec3e22ddff72"
      },
      "execution_count": null,
      "outputs": [
        {
          "output_type": "stream",
          "name": "stdout",
          "text": [
            "Downloaded file 'Process_Files/20220531-Westpac-62b50dcee4b01b296330c0ea.pdf' to 'sample.pdf'\n"
          ]
        }
      ]
    },
    {
      "cell_type": "code",
      "source": [
        "pdf_files = s3Object.list_files_in_bucket(bucket_name=bucket_name, folder='Process_Files')[1:]\n",
        "pdf_files"
      ],
      "metadata": {
        "colab": {
          "base_uri": "https://localhost:8080/"
        },
        "id": "isCcGLWPqtD_",
        "outputId": "312c1726-870f-415d-8ead-ad73a56831e9"
      },
      "execution_count": null,
      "outputs": [
        {
          "output_type": "execute_result",
          "data": {
            "text/plain": [
              "['Process_Files/20220531-Westpac-62b50dcee4b01b296330c0ea.pdf']"
            ]
          },
          "metadata": {},
          "execution_count": 36
        }
      ]
    },
    {
      "cell_type": "code",
      "source": [
        "s3Object.delete_file(bucket_name=bucket_name, object_key='Documents/Document Managed layout..pdf')"
      ],
      "metadata": {
        "colab": {
          "base_uri": "https://localhost:8080/"
        },
        "id": "p-509xCwx46e",
        "outputId": "24064ce8-e8ea-475f-d856-e8eb477fb274"
      },
      "execution_count": null,
      "outputs": [
        {
          "output_type": "stream",
          "name": "stdout",
          "text": [
            "Deleted object 'Documents/Document Managed layout..pdf' from bucket 'dmsai'\n"
          ]
        }
      ]
    },
    {
      "cell_type": "code",
      "source": [],
      "metadata": {
        "id": "io0_-NZLvWkG"
      },
      "execution_count": null,
      "outputs": []
    }
  ]
}